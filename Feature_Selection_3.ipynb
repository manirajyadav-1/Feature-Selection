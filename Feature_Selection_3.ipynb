{
  "nbformat": 4,
  "nbformat_minor": 0,
  "metadata": {
    "colab": {
      "provenance": []
    },
    "kernelspec": {
      "name": "python3",
      "display_name": "Python 3"
    },
    "language_info": {
      "name": "python"
    }
  },
  "cells": [
    {
      "cell_type": "code",
      "execution_count": null,
      "metadata": {
        "id": "Drep5Zvtm08W"
      },
      "outputs": [],
      "source": [
        "import pandas as pd\n",
        "from sklearn.datasets import load_diabetes\n",
        "from sklearn.model_selection import train_test_split\n",
        "from sklearn.ensemble import RandomForestClassifier\n",
        "from sklearn.metrics import accuracy_score\n",
        "from sklearn.feature_selection import VarianceThreshold\n"
      ]
    },
    {
      "cell_type": "code",
      "source": [
        "diabetes_data = pd.read_csv('diabetes.csv')\n",
        "\n",
        "# Define features and target variable\n",
        "X = diabetes_data.drop(columns=['Outcome'])  # Assuming 'Outcome' is the target variable\n",
        "y = diabetes_data['Outcome']  # Target variable\n",
        "\n",
        "\n"
      ],
      "metadata": {
        "id": "mueKJgqFnQuq"
      },
      "execution_count": null,
      "outputs": []
    },
    {
      "cell_type": "code",
      "source": [
        "# Split the dataset into training and testing sets\n",
        "X_train, X_test, y_train, y_test = train_test_split(X, y, test_size=0.2, random_state=42)\n"
      ],
      "metadata": {
        "id": "jLmHNf8TnZt4"
      },
      "execution_count": null,
      "outputs": []
    },
    {
      "cell_type": "code",
      "source": [
        "# Train a Random Forest Classifier without variance filtering\n",
        "model = RandomForestClassifier(random_state=42)\n",
        "model.fit(X_train, y_train)\n",
        "\n",
        "# Make predictions and evaluate accuracy\n",
        "y_pred = model.predict(X_test)\n",
        "initial_accuracy = accuracy_score(y_test, y_pred)\n",
        "\n",
        "print(f\"Initial accuracy without low variance filter: {initial_accuracy:.4f}\")\n"
      ],
      "metadata": {
        "colab": {
          "base_uri": "https://localhost:8080/"
        },
        "id": "v0W9Y3p5naYI",
        "outputId": "82081175-2ef0-4c69-c59a-bdf769a474ea"
      },
      "execution_count": null,
      "outputs": [
        {
          "output_type": "stream",
          "name": "stdout",
          "text": [
            "Initial accuracy without low variance filter: 0.7208\n"
          ]
        }
      ]
    },
    {
      "cell_type": "code",
      "source": [
        "# Apply a low variance filter\n",
        "low_variance_filter = VarianceThreshold(threshold=0.3)  # You can adjust the threshold\n",
        "X_train_filtered = low_variance_filter.fit_transform(X_train)\n",
        "X_test_filtered = low_variance_filter.transform(X_test)\n"
      ],
      "metadata": {
        "id": "wFCEPAlGncmZ"
      },
      "execution_count": null,
      "outputs": []
    },
    {
      "cell_type": "code",
      "source": [
        "# Train the model with filtered features\n",
        "model_filtered = RandomForestClassifier(random_state=42)\n",
        "model_filtered.fit(X_train_filtered, y_train)\n",
        "\n",
        "# Make predictions and evaluate accuracy\n",
        "y_pred_filtered = model_filtered.predict(X_test_filtered)\n",
        "filtered_accuracy = accuracy_score(y_test, y_pred_filtered)\n",
        "\n",
        "print(f\"Accuracy after applying low variance filter: {filtered_accuracy:.4f}\")\n"
      ],
      "metadata": {
        "colab": {
          "base_uri": "https://localhost:8080/"
        },
        "id": "vN2RrWU_neWB",
        "outputId": "12d2a8f4-de64-4746-aa9b-fd0fe71068aa"
      },
      "execution_count": null,
      "outputs": [
        {
          "output_type": "stream",
          "name": "stdout",
          "text": [
            "Accuracy after applying low variance filter: 0.7208\n"
          ]
        }
      ]
    },
    {
      "cell_type": "code",
      "source": [
        "# Compare accuracies\n",
        "print(f\"Accuracy Improvement: {filtered_accuracy - initial_accuracy:.4f}\")\n"
      ],
      "metadata": {
        "colab": {
          "base_uri": "https://localhost:8080/"
        },
        "id": "Z9icluX-ng0o",
        "outputId": "db1f69e0-3ab9-40fc-da47-f62e01e302ea"
      },
      "execution_count": null,
      "outputs": [
        {
          "output_type": "stream",
          "name": "stdout",
          "text": [
            "Accuracy Improvement: 0.0000\n"
          ]
        }
      ]
    },
    {
      "cell_type": "markdown",
      "source": [
        "Melbourne\n"
      ],
      "metadata": {
        "id": "gyhntNgJoQ6x"
      }
    },
    {
      "cell_type": "code",
      "source": [
        "import pandas as pd\n",
        "from sklearn.model_selection import train_test_split\n",
        "from sklearn.ensemble import RandomForestRegressor\n",
        "from sklearn.metrics import mean_squared_error,r2_score\n",
        "from sklearn.feature_selection import VarianceThreshold\n",
        "from sklearn.impute import SimpleImputer\n",
        "from sklearn.preprocessing import OneHotEncoder\n"
      ],
      "metadata": {
        "id": "jH966-_WoPD3"
      },
      "execution_count": null,
      "outputs": []
    },
    {
      "cell_type": "code",
      "source": [
        "# Load the dataset from CSV\n",
        "melbourne_data = pd.read_csv('melbourne.csv')\n",
        "\n",
        "# Display the first few rows of the dataset\n",
        "print(melbourne_data.head())\n"
      ],
      "metadata": {
        "colab": {
          "base_uri": "https://localhost:8080/"
        },
        "id": "S5wJllAWpLfZ",
        "outputId": "fe1a4ea8-ceb2-4873-8322-9a6db3261a09"
      },
      "execution_count": null,
      "outputs": [
        {
          "output_type": "stream",
          "name": "stdout",
          "text": [
            "       Suburb  Rooms Type      Price Method SellerG     Date  Distance  \\\n",
            "0  Abbotsford      2    h        NaN     SS  Jellis   3/9/16       2.5   \n",
            "1  Abbotsford      2    h  1480000.0      S  Biggin  3/12/16       2.5   \n",
            "2  Abbotsford      2    h  1035000.0      S  Biggin   4/2/16       2.5   \n",
            "3  Abbotsford      3    u        NaN     VB  Rounds   4/2/16       2.5   \n",
            "4  Abbotsford      3    h  1465000.0     SP  Biggin   4/3/17       2.5   \n",
            "\n",
            "   Postcode  Bedroom2  Bathroom  Car  Landsize  BuildingArea  YearBuilt  \\\n",
            "0    3067.0       2.0       1.0  1.0     126.0           NaN        NaN   \n",
            "1    3067.0       2.0       1.0  1.0     202.0           NaN        NaN   \n",
            "2    3067.0       2.0       1.0  0.0     156.0          79.0     1900.0   \n",
            "3    3067.0       3.0       2.0  1.0       0.0           NaN        NaN   \n",
            "4    3067.0       3.0       2.0  0.0     134.0         150.0     1900.0   \n",
            "\n",
            "          CouncilArea  Lattitude  Longtitude             Regionname  \\\n",
            "0  Yarra City Council   -37.8014    144.9958  Northern Metropolitan   \n",
            "1  Yarra City Council   -37.7996    144.9984  Northern Metropolitan   \n",
            "2  Yarra City Council   -37.8079    144.9934  Northern Metropolitan   \n",
            "3  Yarra City Council   -37.8114    145.0116  Northern Metropolitan   \n",
            "4  Yarra City Council   -37.8093    144.9944  Northern Metropolitan   \n",
            "\n",
            "   Propertycount  \n",
            "0         4019.0  \n",
            "1         4019.0  \n",
            "2         4019.0  \n",
            "3         4019.0  \n",
            "4         4019.0  \n"
          ]
        }
      ]
    },
    {
      "cell_type": "code",
      "source": [
        "# Encode categorical features using Label Encoding\n",
        "from sklearn.preprocessing import LabelEncoder\n",
        "label_encoder = LabelEncoder()\n",
        "for column in melbourne_data.columns:\n",
        "    if melbourne_data[column].dtype == object:  # Check if the column is of type object (string)\n",
        "        melbourne_data[column] = label_encoder.fit_transform(melbourne_data[column])"
      ],
      "metadata": {
        "id": "w8NKGc4SqOzl"
      },
      "execution_count": null,
      "outputs": []
    },
    {
      "cell_type": "code",
      "source": [
        "# Impute missing values with mean for numerical columns\n",
        "imputer = SimpleImputer(strategy='mean')\n",
        "numerical_columns = melbourne_data.select_dtypes(include=['float64', 'int64']).columns\n",
        "melbourne_data[numerical_columns] = imputer.fit_transform(melbourne_data[numerical_columns])\n",
        "\n",
        "# Verify missing values have been handled\n",
        "print(melbourne_data.isnull().sum())\n"
      ],
      "metadata": {
        "colab": {
          "base_uri": "https://localhost:8080/"
        },
        "id": "robPYSfSpNOo",
        "outputId": "6898790a-c17b-4b81-e4a7-9464634261fe"
      },
      "execution_count": null,
      "outputs": [
        {
          "output_type": "stream",
          "name": "stdout",
          "text": [
            "Suburb           0\n",
            "Rooms            0\n",
            "Type             0\n",
            "Price            0\n",
            "Method           0\n",
            "SellerG          0\n",
            "Date             0\n",
            "Distance         0\n",
            "Postcode         0\n",
            "Bedroom2         0\n",
            "Bathroom         0\n",
            "Car              0\n",
            "Landsize         0\n",
            "BuildingArea     0\n",
            "YearBuilt        0\n",
            "CouncilArea      0\n",
            "Lattitude        0\n",
            "Longtitude       0\n",
            "Regionname       0\n",
            "Propertycount    0\n",
            "dtype: int64\n"
          ]
        }
      ]
    },
    {
      "cell_type": "code",
      "source": [
        "# Define features (X) and target variable (y)\n",
        "X = melbourne_data.drop(columns=['Price'])  # Assuming 'Price' is the target variable\n",
        "y = melbourne_data['Price']\n"
      ],
      "metadata": {
        "id": "XE4CrbbXpPcv"
      },
      "execution_count": null,
      "outputs": []
    },
    {
      "cell_type": "code",
      "source": [
        "# Split the dataset into training and testing sets\n",
        "X_train, X_test, y_train, y_test = train_test_split(X, y, test_size=0.2, random_state=42)\n"
      ],
      "metadata": {
        "id": "nlQ5bamOpRVK"
      },
      "execution_count": null,
      "outputs": []
    },
    {
      "cell_type": "code",
      "source": [
        "# Apply a low variance filter\n",
        "low_variance_filter = VarianceThreshold(threshold=0.1)  # Adjust the threshold as needed\n",
        "X_train_filtered = low_variance_filter.fit_transform(X_train)\n",
        "X_test_filtered = low_variance_filter.transform(X_test)\n"
      ],
      "metadata": {
        "id": "OQVQDvZXpTRI"
      },
      "execution_count": null,
      "outputs": []
    },
    {
      "cell_type": "code",
      "source": [
        "# Train a Random Forest Regressor without variance filtering (this step can be skipped if you only want to analyze the filtered model)\n",
        "model = RandomForestRegressor(random_state=42)\n",
        "model.fit(X_train, y_train)\n",
        "\n",
        "# Make predictions and evaluate performance\n",
        "y_pred = model.predict(X_test)\n",
        "initial_mse = mean_squared_error(y_test, y_pred)\n",
        "initial_r2 = r2_score(y_test, y_pred)\n",
        "\n",
        "print(f\"Initial Mean Squared Error without low variance filter: {initial_mse:.4f}\")\n",
        "print(f\"R² Score before applying low variance filter: {initial_r2:.4f}\")\n"
      ],
      "metadata": {
        "colab": {
          "base_uri": "https://localhost:8080/"
        },
        "id": "zmH3OHx5pU0Q",
        "outputId": "389d2aa0-59de-4d1a-98e0-7656002ff67a"
      },
      "execution_count": null,
      "outputs": [
        {
          "output_type": "stream",
          "name": "stdout",
          "text": [
            "Initial Mean Squared Error without low variance filter: 142803471996.8225\n",
            "R² Score before applying low variance filter: 0.5178\n"
          ]
        }
      ]
    },
    {
      "cell_type": "code",
      "source": [
        "# Train the model with filtered features\n",
        "model_filtered = RandomForestRegressor(random_state=42)\n",
        "model_filtered.fit(X_train_filtered, y_train)\n",
        "\n",
        "# Make predictions and evaluate performance\n",
        "y_pred_filtered = model_filtered.predict(X_test_filtered)\n",
        "filtered_mse = mean_squared_error(y_test, y_pred_filtered)\n",
        "\n",
        "filtered_r2 = r2_score(y_test, y_pred_filtered)\n",
        "\n",
        "print(f\"Mean Squared Error after applying low variance filter (Regression): {filtered_mse:.4f}\")\n",
        "print(f\"R² Score after applying low variance filter: {filtered_r2:.4f}\")\n"
      ],
      "metadata": {
        "colab": {
          "base_uri": "https://localhost:8080/"
        },
        "id": "wX30-zEnpWKh",
        "outputId": "92e8383b-7518-4140-812a-74b14e9e8f0f"
      },
      "execution_count": null,
      "outputs": [
        {
          "output_type": "stream",
          "name": "stdout",
          "text": [
            "Mean Squared Error after applying low variance filter (Regression): 146113090625.3388\n",
            "R² Score after applying low variance filter: 0.5066\n"
          ]
        }
      ]
    },
    {
      "cell_type": "code",
      "source": [
        "# Compare performances\n",
        "print(f\"MSE Improvement: {initial_mse - filtered_mse:.4f}\")\n"
      ],
      "metadata": {
        "colab": {
          "base_uri": "https://localhost:8080/"
        },
        "id": "TcPeryc2pX36",
        "outputId": "a2d3cc4f-100a-4c68-a7db-29f7bce29781"
      },
      "execution_count": null,
      "outputs": [
        {
          "output_type": "stream",
          "name": "stdout",
          "text": [
            "MSE Improvement: -3309618628.5163\n"
          ]
        }
      ]
    },
    {
      "cell_type": "code",
      "source": [],
      "metadata": {
        "id": "YsSpMgvOpeDr"
      },
      "execution_count": null,
      "outputs": []
    }
  ]
}