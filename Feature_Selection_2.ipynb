{
  "cells": [
    {
      "cell_type": "code",
      "execution_count": null,
      "metadata": {
        "colab": {
          "base_uri": "https://localhost:8080/"
        },
        "id": "ZXjka1dLD8y5",
        "outputId": "a0e4a5ae-9086-4bf1-94e0-4e0b180b1f1e"
      },
      "outputs": [
        {
          "name": "stdout",
          "output_type": "stream",
          "text": [
            "   Pregnancies  Glucose  BloodPressure  SkinThickness  Insulin   BMI  \\\n",
            "0            6      148             72             35        0  33.6   \n",
            "1            1       85             66             29        0  26.6   \n",
            "2            8      183             64              0        0  23.3   \n",
            "3            1       89             66             23       94  28.1   \n",
            "4            0      137             40             35      168  43.1   \n",
            "\n",
            "   DiabetesPedigreeFunction  Age  Outcome  \n",
            "0                     0.627   50        1  \n",
            "1                     0.351   31        0  \n",
            "2                     0.672   32        1  \n",
            "3                     0.167   21        0  \n",
            "4                     2.288   33        1  \n"
          ]
        }
      ],
      "source": [
        "import pandas as pd\n",
        "import numpy as np\n",
        "import seaborn as sns\n",
        "import matplotlib.pyplot as plt\n",
        "from sklearn.datasets import load_diabetes\n",
        "from sklearn.model_selection import train_test_split\n",
        "from sklearn.linear_model import LogisticRegression\n",
        "from sklearn.metrics import accuracy_score, classification_report\n",
        "from sklearn.ensemble import RandomForestClassifier\n",
        "\n",
        "diabetes_data = pd.read_csv('diabetes.csv')\n",
        "print(diabetes_data.head())\n",
        "X = diabetes_data.drop(columns=['Outcome'])\n",
        "y = diabetes_data['Outcome']"
      ]
    },
    {
      "cell_type": "code",
      "execution_count": null,
      "metadata": {
        "colab": {
          "base_uri": "https://localhost:8080/"
        },
        "id": "zp4ke3fnFsys",
        "outputId": "7f5b4fe7-d018-45bb-a177-ab4289a924bc"
      },
      "outputs": [
        {
          "name": "stdout",
          "output_type": "stream",
          "text": [
            "Correlation Matrix:\n",
            "                          Pregnancies   Glucose  BloodPressure  SkinThickness  \\\n",
            "Pregnancies                  1.000000  0.129459       0.141282      -0.081672   \n",
            "Glucose                      0.129459  1.000000       0.152590       0.057328   \n",
            "BloodPressure                0.141282  0.152590       1.000000       0.207371   \n",
            "SkinThickness               -0.081672  0.057328       0.207371       1.000000   \n",
            "Insulin                     -0.073535  0.331357       0.088933       0.436783   \n",
            "BMI                          0.017683  0.221071       0.281805       0.392573   \n",
            "DiabetesPedigreeFunction    -0.033523  0.137337       0.041265       0.183928   \n",
            "Age                          0.544341  0.263514       0.239528      -0.113970   \n",
            "\n",
            "                           Insulin       BMI  DiabetesPedigreeFunction  \\\n",
            "Pregnancies              -0.073535  0.017683                 -0.033523   \n",
            "Glucose                   0.331357  0.221071                  0.137337   \n",
            "BloodPressure             0.088933  0.281805                  0.041265   \n",
            "SkinThickness             0.436783  0.392573                  0.183928   \n",
            "Insulin                   1.000000  0.197859                  0.185071   \n",
            "BMI                       0.197859  1.000000                  0.140647   \n",
            "DiabetesPedigreeFunction  0.185071  0.140647                  1.000000   \n",
            "Age                      -0.042163  0.036242                  0.033561   \n",
            "\n",
            "                               Age  \n",
            "Pregnancies               0.544341  \n",
            "Glucose                   0.263514  \n",
            "BloodPressure             0.239528  \n",
            "SkinThickness            -0.113970  \n",
            "Insulin                  -0.042163  \n",
            "BMI                       0.036242  \n",
            "DiabetesPedigreeFunction  0.033561  \n",
            "Age                       1.000000  \n"
          ]
        }
      ],
      "source": [
        "corr_matrix = X.corr()\n",
        "print(\"Correlation Matrix:\")\n",
        "print(corr_matrix)"
      ]
    },
    {
      "cell_type": "code",
      "execution_count": null,
      "metadata": {
        "colab": {
          "base_uri": "https://localhost:8080/"
        },
        "id": "gqeEaiooF0S-",
        "outputId": "292ddc71-e4e5-40df-f1a0-7ed7cba1a4dc"
      },
      "outputs": [
        {
          "name": "stdout",
          "output_type": "stream",
          "text": [
            "Highly Correlated Pairs: []\n"
          ]
        }
      ],
      "source": [
        "high_corr_pairs = [(i, j) for i in corr_matrix.columns for j in corr_matrix.columns\n",
        "                   if i != j and abs(corr_matrix.loc[i, j]) > 0.8]\n",
        "print(\"Highly Correlated Pairs:\", high_corr_pairs)\n"
      ]
    },
    {
      "cell_type": "code",
      "execution_count": null,
      "metadata": {
        "id": "b4jIyLxpF7AZ"
      },
      "outputs": [],
      "source": [
        "to_remove = {pair[1] for pair in high_corr_pairs}\n",
        "X_reduced = X.drop(columns=to_remove)\n",
        "\n",
        "X_train, X_test, y_train, y_test = train_test_split(X, y, test_size=0.3, random_state=42)\n",
        "X_reduced_train, X_reduced_test = train_test_split(X_reduced, test_size=0.3, random_state=42)[0:2]\n"
      ]
    },
    {
      "cell_type": "code",
      "execution_count": null,
      "metadata": {
        "colab": {
          "base_uri": "https://localhost:8080/"
        },
        "id": "bu9p8UYhGCVk",
        "outputId": "7ec19412-cfe9-4743-efe3-0e3a79a5e4ba"
      },
      "outputs": [
        {
          "name": "stdout",
          "output_type": "stream",
          "text": [
            "Original Model Performance:\n",
            "Accuracy: 0.7532467532467533\n",
            "Classification Report:\n",
            "               precision    recall  f1-score   support\n",
            "\n",
            "           0       0.82      0.80      0.81       151\n",
            "           1       0.64      0.66      0.65        80\n",
            "\n",
            "    accuracy                           0.75       231\n",
            "   macro avg       0.73      0.73      0.73       231\n",
            "weighted avg       0.76      0.75      0.75       231\n",
            "\n"
          ]
        }
      ],
      "source": [
        "model = RandomForestClassifier(random_state=42)\n",
        "model.fit(X_train, y_train)\n",
        "y_pred = model.predict(X_test)\n",
        "print(\"Original Model Performance:\")\n",
        "print(\"Accuracy:\", accuracy_score(y_test, y_pred))\n",
        "print(\"Classification Report:\\n\", classification_report(y_test, y_pred))"
      ]
    },
    {
      "cell_type": "code",
      "execution_count": null,
      "metadata": {
        "colab": {
          "base_uri": "https://localhost:8080/"
        },
        "id": "PHWqEL2lGD0y",
        "outputId": "eb388f77-7700-4f0c-ea95-ee0ec9f436bc"
      },
      "outputs": [
        {
          "name": "stdout",
          "output_type": "stream",
          "text": [
            "\n",
            "Model Performance After Removing Highly Correlated Features:\n",
            "Accuracy: 0.7532467532467533\n",
            "Classification Report:\n",
            "               precision    recall  f1-score   support\n",
            "\n",
            "           0       0.82      0.80      0.81       151\n",
            "           1       0.64      0.66      0.65        80\n",
            "\n",
            "    accuracy                           0.75       231\n",
            "   macro avg       0.73      0.73      0.73       231\n",
            "weighted avg       0.76      0.75      0.75       231\n",
            "\n"
          ]
        }
      ],
      "source": [
        "model_reduced = RandomForestClassifier(random_state=42)\n",
        "model_reduced.fit(X_reduced_train, y_train)\n",
        "y_reduced_pred = model_reduced.predict(X_reduced_test)\n",
        "print(\"\\nModel Performance After Removing Highly Correlated Features:\")\n",
        "print(\"Accuracy:\", accuracy_score(y_test, y_reduced_pred))\n",
        "print(\"Classification Report:\\n\", classification_report(y_test, y_reduced_pred))"
      ]
    },
    {
      "cell_type": "markdown",
      "metadata": {
        "id": "GHKyKRBpGV73"
      },
      "source": [
        "Melbourne Dataset:"
      ]
    },
    {
      "cell_type": "code",
      "source": [
        "import pandas as pd\n",
        "import numpy as np\n",
        "from sklearn.impute import SimpleImputer\n",
        "from sklearn.model_selection import train_test_split\n",
        "from sklearn.ensemble import RandomForestRegressor\n",
        "from sklearn.metrics import mean_squared_error, r2_score\n",
        "\n",
        "# Load the dataset\n",
        "df = pd.read_csv('melbourne.csv')\n",
        "\n",
        "# Encode categorical features using Label Encoding\n",
        "from sklearn.preprocessing import LabelEncoder\n",
        "label_encoder = LabelEncoder()\n",
        "for column in df.columns:\n",
        "    if df[column].dtype == object:  # Check if the column is of type object (string)\n",
        "        df[column] = label_encoder.fit_transform(df[column])\n",
        "\n",
        "# Check for missing values\n",
        "miss_percent2 = (df.isnull().sum() / len(df)) * 100\n",
        "drop_percent2 = df.columns[miss_percent2 > 22]\n",
        "print(\"Columns with more than 22% missing values:\", drop_percent2)\n",
        "data2_dropped = df.drop(columns=drop_percent2, axis=1)\n",
        "print(\"Dataset after dropping columns with more than 22% missing values:\")\n",
        "print(data2_dropped.head())\n",
        "\n",
        "# Impute missing values\n",
        "imputer = SimpleImputer(strategy='mean')\n",
        "X2 = data2_dropped.drop(columns=['Price'])\n",
        "X2_imputed = imputer.fit_transform(X2)\n",
        "\n",
        "# Target variable\n",
        "y2 = data2_dropped['Price']\n",
        "y2_imputed = imputer.fit_transform(y2.values.reshape(-1, 1)).ravel()\n",
        "\n",
        "# Step 2: Calculate correlation matrix for X2_imputed\n",
        "X2_df = pd.DataFrame(X2_imputed, columns=X2.columns)\n",
        "corr_matrix = X2_df.corr()\n",
        "\n",
        "# Step 3: Identify highly correlated features (correlation > 0.85)\n",
        "threshold = 0.85\n",
        "high_corr_var = np.where(np.abs(corr_matrix) > threshold)\n",
        "high_corr_pairs = [(corr_matrix.index[x], corr_matrix.columns[y])\n",
        "                   for x, y in zip(*high_corr_var)\n",
        "                   if x != y and x < y]  # Avoid duplicates and self-pairs\n",
        "\n",
        "print(\"Correlation Matrix:\")\n",
        "print(corr_matrix)\n",
        "\n",
        "print(\"Highly correlated pairs (correlation > 0.85):\", high_corr_pairs)\n",
        "\n",
        "# Drop one feature from each pair of highly correlated features\n",
        "features_to_drop = {pair[1] for pair in high_corr_pairs}\n",
        "X2_changed = X2_df.drop(columns=features_to_drop)\n",
        "\n",
        "# Step 4: Train-test split for original and reduced feature sets\n",
        "X2_train, X2_test, y2_train, y2_test = train_test_split(X2_imputed, y2_imputed, test_size=0.3, random_state=42)\n",
        "X2_changed_train, X2_changed_test, y2_changed_train, y2_changed_test = train_test_split(X2_changed, y2_imputed, test_size=0.3, random_state=42)\n",
        "\n",
        "# Step 5: Train and evaluate model on original feature set (X2)\n",
        "model_original = RandomForestRegressor(random_state=42)\n",
        "model_original.fit(X2_train, y2_train)\n",
        "y2_pred = model_original.predict(X2_test)\n",
        "\n",
        "# Evaluate performance (Original)\n",
        "original_rmse = mean_squared_error(y2_test, y2_pred, squared=False)\n",
        "original_r2 = r2_score(y2_test, y2_pred)\n",
        "print(\"\\nPerformance with original features:\")\n",
        "print(\"RMSE:\", original_rmse)\n",
        "print(\"R²:\", original_r2)\n",
        "\n",
        "# Step 6: Train and evaluate model on reduced feature set (X2_changed)\n",
        "model_reduced = RandomForestRegressor(random_state=42)\n",
        "model_reduced.fit(X2_changed_train, y2_changed_train)\n",
        "y2_changed_pred = model_reduced.predict(X2_changed_test)\n",
        "\n",
        "# Evaluate performance (Reduced)\n",
        "reduced_rmse = mean_squared_error(y2_changed_test, y2_changed_pred, squared=False)\n",
        "reduced_r2 = r2_score(y2_changed_test, y2_changed_pred)\n",
        "print(\"\\nPerformance with reduced features:\")\n",
        "print(\"RMSE:\", reduced_rmse)\n",
        "print(\"R²:\", reduced_r2)\n",
        "\n",
        "# Step 7: Compare the difference in RMSE and R²\n",
        "rmse_difference = original_rmse - reduced_rmse\n",
        "r2_difference = original_r2 - reduced_r2\n",
        "print(\"\\nRMSE difference (Original - Reduced):\", rmse_difference)\n",
        "print(\"R² difference (Original - Reduced):\", r2_difference)\n"
      ],
      "metadata": {
        "colab": {
          "base_uri": "https://localhost:8080/"
        },
        "id": "5sPl_HxNiDHj",
        "outputId": "2a59dc3f-e1a1-4fa2-f433-a35f845d2160"
      },
      "execution_count": null,
      "outputs": [
        {
          "output_type": "stream",
          "name": "stdout",
          "text": [
            "Columns with more than 22% missing values: Index(['Bedroom2', 'Bathroom', 'Car', 'Landsize', 'BuildingArea', 'YearBuilt',\n",
            "       'Lattitude', 'Longtitude'],\n",
            "      dtype='object')\n",
            "Dataset after dropping columns with more than 22% missing values:\n",
            "   Suburb  Rooms  Type      Price  Method  SellerG  Date  Distance  Postcode  \\\n",
            "0       0      2     0        NaN       6      155    59       2.5    3067.0   \n",
            "1       0      2     0  1480000.0       2       33    55       2.5    3067.0   \n",
            "2       0      2     0  1035000.0       2       33    64       2.5    3067.0   \n",
            "3       0      3     2        NaN       7      296    64       2.5    3067.0   \n",
            "4       0      3     0  1465000.0       5       33    65       2.5    3067.0   \n",
            "\n",
            "   CouncilArea  Regionname  Propertycount  \n",
            "0           31           2         4019.0  \n",
            "1           31           2         4019.0  \n",
            "2           31           2         4019.0  \n",
            "3           31           2         4019.0  \n",
            "4           31           2         4019.0  \n",
            "Correlation Matrix:\n",
            "                 Suburb     Rooms      Type    Method   SellerG      Date  \\\n",
            "Suburb         1.000000 -0.064271  0.022750  0.001405  0.034903 -0.002352   \n",
            "Rooms         -0.064271  1.000000 -0.550992 -0.029778 -0.040063 -0.011284   \n",
            "Type           0.022750 -0.550992  1.000000  0.043113  0.030186  0.005767   \n",
            "Method         0.001405 -0.029778  0.043113  1.000000  0.002896  0.000023   \n",
            "SellerG        0.034903 -0.040063  0.030186  0.002896  1.000000 -0.000102   \n",
            "Date          -0.002352 -0.011284  0.005767  0.000023 -0.000102  1.000000   \n",
            "Distance      -0.007840  0.271511 -0.235796 -0.041119 -0.025242  0.000767   \n",
            "Postcode      -0.014178  0.085890 -0.030485 -0.009798 -0.005505  0.001195   \n",
            "CouncilArea    0.111995 -0.121064  0.069883  0.001811  0.039961  0.006061   \n",
            "Regionname    -0.019138 -0.038924  0.058365  0.017286  0.026042  0.002813   \n",
            "Propertycount  0.149112 -0.071675  0.074674 -0.028172  0.044485  0.000202   \n",
            "\n",
            "               Distance  Postcode  CouncilArea  Regionname  Propertycount  \n",
            "Suburb        -0.007840 -0.014178     0.111995   -0.019138       0.149112  \n",
            "Rooms          0.271511  0.085890    -0.121064   -0.038924      -0.071675  \n",
            "Type          -0.235796 -0.030485     0.069883    0.058365       0.074674  \n",
            "Method        -0.041119 -0.009798     0.001811    0.017286      -0.028172  \n",
            "SellerG       -0.025242 -0.005505     0.039961    0.026042       0.044485  \n",
            "Date           0.000767  0.001195     0.006061    0.002813       0.000202  \n",
            "Distance       1.000000  0.481566    -0.122469   -0.136274      -0.018140  \n",
            "Postcode       0.481566  1.000000     0.013163   -0.031856       0.017108  \n",
            "CouncilArea   -0.122469  0.013163     1.000000   -0.076962       0.020687  \n",
            "Regionname    -0.136274 -0.031856    -0.076962    1.000000      -0.114113  \n",
            "Propertycount -0.018140  0.017108     0.020687   -0.114113       1.000000  \n",
            "Highly correlated pairs (correlation > 0.85): []\n"
          ]
        },
        {
          "output_type": "stream",
          "name": "stderr",
          "text": [
            "/usr/local/lib/python3.10/dist-packages/sklearn/metrics/_regression.py:492: FutureWarning: 'squared' is deprecated in version 1.4 and will be removed in 1.6. To calculate the root mean squared error, use the function'root_mean_squared_error'.\n",
            "  warnings.warn(\n"
          ]
        },
        {
          "output_type": "stream",
          "name": "stdout",
          "text": [
            "\n",
            "Performance with original features:\n",
            "RMSE: 424937.253474199\n",
            "R²: 0.4594153634117968\n",
            "\n",
            "Performance with reduced features:\n",
            "RMSE: 424937.253474199\n",
            "R²: 0.4594153634117968\n",
            "\n",
            "RMSE difference (Original - Reduced): 0.0\n",
            "R² difference (Original - Reduced): 0.0\n"
          ]
        },
        {
          "output_type": "stream",
          "name": "stderr",
          "text": [
            "/usr/local/lib/python3.10/dist-packages/sklearn/metrics/_regression.py:492: FutureWarning: 'squared' is deprecated in version 1.4 and will be removed in 1.6. To calculate the root mean squared error, use the function'root_mean_squared_error'.\n",
            "  warnings.warn(\n"
          ]
        }
      ]
    },
    {
      "cell_type": "code",
      "source": [
        "import pandas as pd\n",
        "from sklearn.model_selection import train_test_split\n",
        "from sklearn.ensemble import RandomForestRegressor\n",
        "from sklearn.metrics import mean_squared_error,r2_score\n",
        "from sklearn.impute import SimpleImputer\n",
        "from sklearn.preprocessing import OneHotEncoder\n"
      ],
      "metadata": {
        "id": "ptr3NHtur3li"
      },
      "execution_count": null,
      "outputs": []
    },
    {
      "cell_type": "code",
      "source": [
        "# Load the dataset from CSV\n",
        "melbourne_data = pd.read_csv('melbourne.csv')\n",
        "\n",
        "# Display the first few rows of the dataset\n",
        "print(melbourne_data.head())\n"
      ],
      "metadata": {
        "colab": {
          "base_uri": "https://localhost:8080/"
        },
        "id": "r-4VMcfZr9ZP",
        "outputId": "c9808574-d7ee-4f55-8ac4-3aaf841350b9"
      },
      "execution_count": null,
      "outputs": [
        {
          "output_type": "stream",
          "name": "stdout",
          "text": [
            "       Suburb  Rooms Type      Price Method SellerG     Date  Distance  \\\n",
            "0  Abbotsford      2    h        NaN     SS  Jellis   3/9/16       2.5   \n",
            "1  Abbotsford      2    h  1480000.0      S  Biggin  3/12/16       2.5   \n",
            "2  Abbotsford      2    h  1035000.0      S  Biggin   4/2/16       2.5   \n",
            "3  Abbotsford      3    u        NaN     VB  Rounds   4/2/16       2.5   \n",
            "4  Abbotsford      3    h  1465000.0     SP  Biggin   4/3/17       2.5   \n",
            "\n",
            "   Postcode  Bedroom2  Bathroom  Car  Landsize  BuildingArea  YearBuilt  \\\n",
            "0    3067.0       2.0       1.0  1.0     126.0           NaN        NaN   \n",
            "1    3067.0       2.0       1.0  1.0     202.0           NaN        NaN   \n",
            "2    3067.0       2.0       1.0  0.0     156.0          79.0     1900.0   \n",
            "3    3067.0       3.0       2.0  1.0       0.0           NaN        NaN   \n",
            "4    3067.0       3.0       2.0  0.0     134.0         150.0     1900.0   \n",
            "\n",
            "          CouncilArea  Lattitude  Longtitude             Regionname  \\\n",
            "0  Yarra City Council   -37.8014    144.9958  Northern Metropolitan   \n",
            "1  Yarra City Council   -37.7996    144.9984  Northern Metropolitan   \n",
            "2  Yarra City Council   -37.8079    144.9934  Northern Metropolitan   \n",
            "3  Yarra City Council   -37.8114    145.0116  Northern Metropolitan   \n",
            "4  Yarra City Council   -37.8093    144.9944  Northern Metropolitan   \n",
            "\n",
            "   Propertycount  \n",
            "0         4019.0  \n",
            "1         4019.0  \n",
            "2         4019.0  \n",
            "3         4019.0  \n",
            "4         4019.0  \n"
          ]
        }
      ]
    },
    {
      "cell_type": "code",
      "source": [
        "# Encode categorical features using Label Encoding\n",
        "from sklearn.preprocessing import LabelEncoder\n",
        "label_encoder = LabelEncoder()\n",
        "for column in melbourne_data.columns:\n",
        "    if melbourne_data[column].dtype == object:  # Check if the column is of type object (string)\n",
        "        melbourne_data[column] = label_encoder.fit_transform(melbourne_data[column])"
      ],
      "metadata": {
        "id": "4ZIhQDNgsA4X"
      },
      "execution_count": null,
      "outputs": []
    },
    {
      "cell_type": "code",
      "source": [
        "# Impute missing values with mean for numerical columns\n",
        "imputer = SimpleImputer(strategy='mean')\n",
        "numerical_columns = melbourne_data.select_dtypes(include=['float64', 'int64']).columns\n",
        "melbourne_data[numerical_columns] = imputer.fit_transform(melbourne_data[numerical_columns])\n",
        "\n",
        "# Verify missing values have been handled\n",
        "print(melbourne_data.isnull().sum())\n"
      ],
      "metadata": {
        "colab": {
          "base_uri": "https://localhost:8080/"
        },
        "id": "yJSc8m2QsDP-",
        "outputId": "4e851a67-5c5b-4ce2-ded3-baea680afc94"
      },
      "execution_count": null,
      "outputs": [
        {
          "output_type": "stream",
          "name": "stdout",
          "text": [
            "Suburb           0\n",
            "Rooms            0\n",
            "Type             0\n",
            "Price            0\n",
            "Method           0\n",
            "SellerG          0\n",
            "Date             0\n",
            "Distance         0\n",
            "Postcode         0\n",
            "Bedroom2         0\n",
            "Bathroom         0\n",
            "Car              0\n",
            "Landsize         0\n",
            "BuildingArea     0\n",
            "YearBuilt        0\n",
            "CouncilArea      0\n",
            "Lattitude        0\n",
            "Longtitude       0\n",
            "Regionname       0\n",
            "Propertycount    0\n",
            "dtype: int64\n"
          ]
        }
      ]
    },
    {
      "cell_type": "code",
      "source": [
        "# Define features (X) and target variable (y)\n",
        "X = melbourne_data.drop(columns=['Price'])  # Assuming 'Price' is the target variable\n",
        "y = melbourne_data['Price']\n"
      ],
      "metadata": {
        "id": "0UivG5KDsFJz"
      },
      "execution_count": null,
      "outputs": []
    },
    {
      "cell_type": "code",
      "source": [
        "# Split the dataset into training and testing sets\n",
        "X_train, X_test, y_train, y_test = train_test_split(X, y, test_size=0.2, random_state=42)\n"
      ],
      "metadata": {
        "id": "9RkqoTmWsG-D"
      },
      "execution_count": null,
      "outputs": []
    },
    {
      "cell_type": "code",
      "source": [
        "# Step 2: Calculate correlation matrix for X2_imputed\n",
        "X_df = pd.DataFrame(X, columns=X.columns)\n",
        "corr_matrix = X_df.corr()"
      ],
      "metadata": {
        "id": "HZkj9P7CsoF0"
      },
      "execution_count": null,
      "outputs": []
    },
    {
      "cell_type": "code",
      "source": [
        "# Step 3: Identify highly correlated features (correlation > 0.85)\n",
        "threshold = 0.85\n",
        "high_corr_var = np.where(np.abs(corr_matrix) > threshold)\n",
        "high_corr_pairs = [(corr_matrix.index[x], corr_matrix.columns[y])\n",
        "                   for x, y in zip(*high_corr_var)\n",
        "                   if x != y and x < y]  # Avoid duplicates and self-pairs\n",
        "\n",
        "print(\"Correlation Matrix:\")\n",
        "print(corr_matrix)\n",
        "\n"
      ],
      "metadata": {
        "colab": {
          "base_uri": "https://localhost:8080/"
        },
        "id": "P-w9nWYAsIw_",
        "outputId": "5c255595-183f-448b-a294-61bfd20b94cd"
      },
      "execution_count": null,
      "outputs": [
        {
          "output_type": "stream",
          "name": "stdout",
          "text": [
            "Correlation Matrix:\n",
            "                 Suburb     Rooms      Type    Method   SellerG      Date  \\\n",
            "Suburb         1.000000 -0.064271  0.022750  0.001405  0.034903 -0.002352   \n",
            "Rooms         -0.064271  1.000000 -0.550992 -0.029778 -0.040063 -0.011284   \n",
            "Type           0.022750 -0.550992  1.000000  0.043113  0.030186  0.005767   \n",
            "Method         0.001405 -0.029778  0.043113  1.000000  0.002896  0.000023   \n",
            "SellerG        0.034903 -0.040063  0.030186  0.002896  1.000000 -0.000102   \n",
            "Date          -0.002352 -0.011284  0.005767  0.000023 -0.000102  1.000000   \n",
            "Distance      -0.007840  0.271511 -0.235796 -0.041119 -0.025242  0.000767   \n",
            "Postcode      -0.014178  0.085890 -0.030485 -0.009798 -0.005505  0.001195   \n",
            "Bedroom2      -0.048451  0.819099 -0.404734 -0.014759 -0.032397 -0.010533   \n",
            "Bathroom      -0.047342  0.529191 -0.179315  0.002761 -0.026332 -0.012018   \n",
            "Car           -0.026869  0.337780 -0.210571 -0.009085  0.002093 -0.000565   \n",
            "Landsize       0.000577  0.030136 -0.016931  0.006994 -0.000516 -0.005289   \n",
            "BuildingArea  -0.006884  0.098468 -0.050081 -0.003980 -0.000063 -0.004502   \n",
            "YearBuilt      0.019092 -0.008660  0.179759 -0.004338 -0.008016  0.000957   \n",
            "CouncilArea    0.111995 -0.121064  0.069883  0.001811  0.039961  0.006061   \n",
            "Lattitude      0.112958  0.004254 -0.068760 -0.013653  0.005122 -0.002632   \n",
            "Longtitude    -0.130949  0.090140 -0.007422 -0.016161 -0.060161 -0.005304   \n",
            "Regionname    -0.019138 -0.038924  0.058365  0.017286  0.026042  0.002813   \n",
            "Propertycount  0.149112 -0.071675  0.074674 -0.028172  0.044485  0.000202   \n",
            "\n",
            "               Distance  Postcode  Bedroom2  Bathroom       Car  Landsize  \\\n",
            "Suburb        -0.007840 -0.014178 -0.048451 -0.047342 -0.026869  0.000577   \n",
            "Rooms          0.271511  0.085890  0.819099  0.529191  0.337780  0.030136   \n",
            "Type          -0.235796 -0.030485 -0.404734 -0.179315 -0.210571 -0.016931   \n",
            "Method        -0.041119 -0.009798 -0.014759  0.002761 -0.009085  0.006994   \n",
            "SellerG       -0.025242 -0.005505 -0.032397 -0.026332  0.002093 -0.000516   \n",
            "Date           0.000767  0.001195 -0.010533 -0.012018 -0.000565 -0.005289   \n",
            "Distance       1.000000  0.481566  0.239091  0.111939  0.211768  0.048717   \n",
            "Postcode       0.481566  1.000000  0.080398  0.108110  0.060746  0.032452   \n",
            "Bedroom2       0.239091  0.080398  1.000000  0.614737  0.385459  0.034578   \n",
            "Bathroom       0.111939  0.108110  0.614737  1.000000  0.305530  0.034007   \n",
            "Car            0.211768  0.060746  0.385459  0.305530  1.000000  0.034846   \n",
            "Landsize       0.048717  0.032452  0.034578  0.034007  0.034846  1.000000   \n",
            "BuildingArea   0.050110  0.029252  0.110089  0.107991  0.074810  0.085636   \n",
            "YearBuilt      0.220757  0.063422 -0.001589  0.130244  0.095211  0.010530   \n",
            "CouncilArea   -0.122469  0.013163 -0.100150 -0.060506 -0.110031  0.002301   \n",
            "Lattitude     -0.089506 -0.208542  0.003431 -0.058905 -0.008943  0.022734   \n",
            "Longtitude     0.179113  0.327576  0.105682  0.106059  0.046613 -0.002323   \n",
            "Regionname    -0.136274 -0.031856 -0.041834  0.008549  0.009898 -0.011688   \n",
            "Propertycount -0.018140  0.017108 -0.045785 -0.028168 -0.008171 -0.014453   \n",
            "\n",
            "               BuildingArea  YearBuilt  CouncilArea  Lattitude  Longtitude  \\\n",
            "Suburb            -0.006884   0.019092     0.111995   0.112958   -0.130949   \n",
            "Rooms              0.098468  -0.008660    -0.121064   0.004254    0.090140   \n",
            "Type              -0.050081   0.179759     0.069883  -0.068760   -0.007422   \n",
            "Method            -0.003980  -0.004338     0.001811  -0.013653   -0.016161   \n",
            "SellerG           -0.000063  -0.008016     0.039961   0.005122   -0.060161   \n",
            "Date              -0.004502   0.000957     0.006061  -0.002632   -0.005304   \n",
            "Distance           0.050110   0.220757    -0.122469  -0.089506    0.179113   \n",
            "Postcode           0.029252   0.063422     0.013163  -0.208542    0.327576   \n",
            "Bedroom2           0.110089  -0.001589    -0.100150   0.003431    0.105682   \n",
            "Bathroom           0.107991   0.130244    -0.060506  -0.058905    0.106059   \n",
            "Car                0.074810   0.095211    -0.110031  -0.008943    0.046613   \n",
            "Landsize           0.085636   0.010530     0.002301   0.022734   -0.002323   \n",
            "BuildingArea       1.000000   0.013914    -0.019483   0.012526   -0.001562   \n",
            "YearBuilt          0.013914   1.000000    -0.019756   0.069531   -0.016796   \n",
            "CouncilArea       -0.019483  -0.019756     1.000000   0.074620   -0.116050   \n",
            "Lattitude          0.012526   0.069531     0.074620   1.000000   -0.345589   \n",
            "Longtitude        -0.001562  -0.016796    -0.116050  -0.345589    1.000000   \n",
            "Regionname        -0.000474  -0.028906    -0.076962  -0.248077   -0.448712   \n",
            "Propertycount     -0.015003   0.014550     0.020687   0.009574    0.014067   \n",
            "\n",
            "               Regionname  Propertycount  \n",
            "Suburb          -0.019138       0.149112  \n",
            "Rooms           -0.038924      -0.071675  \n",
            "Type             0.058365       0.074674  \n",
            "Method           0.017286      -0.028172  \n",
            "SellerG          0.026042       0.044485  \n",
            "Date             0.002813       0.000202  \n",
            "Distance        -0.136274      -0.018140  \n",
            "Postcode        -0.031856       0.017108  \n",
            "Bedroom2        -0.041834      -0.045785  \n",
            "Bathroom         0.008549      -0.028168  \n",
            "Car              0.009898      -0.008171  \n",
            "Landsize        -0.011688      -0.014453  \n",
            "BuildingArea    -0.000474      -0.015003  \n",
            "YearBuilt       -0.028906       0.014550  \n",
            "CouncilArea     -0.076962       0.020687  \n",
            "Lattitude       -0.248077       0.009574  \n",
            "Longtitude      -0.448712       0.014067  \n",
            "Regionname       1.000000      -0.114113  \n",
            "Propertycount   -0.114113       1.000000  \n",
            "Highly correlated pairs (correlation > 0.85): []\n"
          ]
        }
      ]
    },
    {
      "cell_type": "code",
      "source": [
        "print(\"Highly correlated pairs (correlation > 0.85):\", high_corr_pairs)\n",
        "\n",
        "# Drop one feature from each pair of highly correlated features\n",
        "features_to_drop = {pair[1] for pair in high_corr_pairs}\n",
        "X_changed = X_df.drop(columns=features_to_drop)"
      ],
      "metadata": {
        "colab": {
          "base_uri": "https://localhost:8080/"
        },
        "id": "cyqFCk5_txsN",
        "outputId": "cc694e2a-7979-4f5b-9e21-e7b465c6af89"
      },
      "execution_count": null,
      "outputs": [
        {
          "output_type": "stream",
          "name": "stdout",
          "text": [
            "Highly correlated pairs (correlation > 0.85): []\n"
          ]
        }
      ]
    },
    {
      "cell_type": "code",
      "source": [
        "# Train a Random Forest Regressor without variance filtering (this step can be skipped if you only want to analyze the filtered model)\n",
        "model = RandomForestRegressor(random_state=42)\n",
        "model.fit(X_train, y_train)\n",
        "\n",
        "# Make predictions and evaluate performance\n",
        "y_pred = model.predict(X_test)\n",
        "initial_mse = mean_squared_error(y_test, y_pred)\n",
        "initial_r2 = r2_score(y_test, y_pred)\n",
        "\n",
        "print(f\"Initial Mean Squared Error without high correlation filter: {initial_mse:.4f}\")\n",
        "print(f\"R² Score before applying high correlation filter: {initial_r2:.4f}\")\n"
      ],
      "metadata": {
        "colab": {
          "base_uri": "https://localhost:8080/"
        },
        "id": "exr0dKmctzOQ",
        "outputId": "621e6b42-aaf6-4a80-af46-d8a7493d667e"
      },
      "execution_count": null,
      "outputs": [
        {
          "output_type": "stream",
          "name": "stdout",
          "text": [
            "Initial Mean Squared Error without high correlation filter: 142803471996.8225\n",
            "R² Score before applying high correlation filter: 0.5178\n"
          ]
        }
      ]
    },
    {
      "cell_type": "code",
      "source": [
        "# Train the model with filtered features\n",
        "X_train_filtered, X_test_filtered, y_train, y_test = train_test_split(X_changed, y, test_size=0.2, random_state=42)\n",
        "model_filtered = RandomForestRegressor(random_state=42)\n",
        "model_filtered.fit(X_train_filtered, y_train)\n",
        "\n",
        "# Make predictions and evaluate performance\n",
        "y_pred_filtered = model_filtered.predict(X_test_filtered)\n",
        "filtered_mse = mean_squared_error(y_test, y_pred_filtered)\n",
        "\n",
        "filtered_r2 = r2_score(y_test, y_pred_filtered)\n",
        "\n",
        "print(f\"Mean Squared Error after applying high correlation filter (Regression): {filtered_mse:.4f}\")\n",
        "print(f\"R² Score after applying high correlation filter: {filtered_r2:.4f}\")\n"
      ],
      "metadata": {
        "colab": {
          "base_uri": "https://localhost:8080/"
        },
        "id": "MbZAfHGOt-Vb",
        "outputId": "71802c81-6ac5-4d24-f817-76c30b580c1f"
      },
      "execution_count": null,
      "outputs": [
        {
          "output_type": "stream",
          "name": "stdout",
          "text": [
            "Mean Squared Error after applying high correlation filter (Regression): 142803471996.8225\n",
            "R² Score after applying high correlation filter: 0.5178\n"
          ]
        }
      ]
    }
  ],
  "metadata": {
    "colab": {
      "provenance": []
    },
    "kernelspec": {
      "display_name": "Python 3",
      "name": "python3"
    },
    "language_info": {
      "name": "python"
    }
  },
  "nbformat": 4,
  "nbformat_minor": 0
}